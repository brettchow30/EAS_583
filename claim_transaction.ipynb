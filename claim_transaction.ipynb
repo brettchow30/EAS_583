{
 "cells": [
  {
   "cell_type": "code",
   "execution_count": null,
   "id": "95a15e22",
   "metadata": {},
   "outputs": [],
   "source": [
    "from web3 import Web3\n",
    "from web3.providers.rpc import HTTPProvider\n",
    "from web3.middleware import ExtraDataToPOAMiddleware\n",
    "import json\n",
    "address = '0xeD14a8be1490d5F1385a5Af6a82da6BAcA4d5a04'\n",
    "sk = \"9b016369b693495d5a90784ba3247e58281980dbe918b5a3fc03e572a0fece68\"\n",
    "w3 = Web3(HTTPProvider('https://api.avax-test.network/ext/bc/C/rpc'))\n",
    "nonce = w3.eth.get_transaction_count(address)\n",
    "w3.middleware_onion.inject(ExtraDataToPOAMiddleware, layer=0)\n",
    "with open('NFT.abi', 'r') as f:\n",
    "    abi = json.load(f)"
   ]
  },
  {
   "cell_type": "code",
   "execution_count": null,
   "id": "4b0f6130",
   "metadata": {},
   "outputs": [],
   "source": [
    "import os\n",
    "random_bytes = os.urandom(32)\n",
    "print(random_bytes)             # raw bytes\n",
    "print(random_bytes.hex())\n",
    "contract = w3.eth.contract(address=\"0x85ac2e065d4526FBeE6a2253389669a12318A412\", abi=abi)\n",
    "txn = contract.functions.claim(address, random_bytes).build_transaction({'from': address, 'gas': 300000, 'gasPrice': w3.to_wei('50', 'gwei'), 'nonce':nonce})"
   ]
  },
  {
   "cell_type": "code",
   "execution_count": null,
   "id": "731c29ac",
   "metadata": {},
   "outputs": [],
   "source": [
    "signed_txn = w3.eth.account.sign_transaction(txn, private_key=sk)\n",
    "w3.eth.send_raw_transaction(signed_txn.raw_transaction)  "
   ]
  }
 ],
 "metadata": {
  "language_info": {
   "name": "python"
  }
 },
 "nbformat": 4,
 "nbformat_minor": 5
}
